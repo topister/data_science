{
 "cells": [
  {
   "cell_type": "markdown",
   "metadata": {},
   "source": [
    "## 1: Datatypes, Operators, and the math Module"
   ]
  },
  {
   "cell_type": "markdown",
   "metadata": {},
   "source": [
    "### Data Types in Python\n",
    "\n",
    "We start with objects in Python. Objects can be of different types, including numbers (integers and floats), strings, arrays (vectors and matrices), and others. Any object can be assigned to a name so that we can refer to the object in our code. We'll start with the basic types of objects.\n",
    "\n",
    "#### Numeric variables\n",
    "The act of assigning a name is done using the = sign. This is not equality in the mathematical sense and has some non-mathematical behavior, as we'll see:\n",
    "\n"
   ]
  },
  {
   "cell_type": "code",
   "execution_count": 2,
   "metadata": {},
   "outputs": [
    {
     "name": "stdout",
     "output_type": "stream",
     "text": [
      "10\n",
      "<class 'int'>\n"
     ]
    }
   ],
   "source": [
    "a = 10\n",
    "print(a)\n",
    "print(type(a))"
   ]
  },
  {
   "cell_type": "code",
   "execution_count": 3,
   "metadata": {},
   "outputs": [
    {
     "data": {
      "text/plain": [
       "float"
      ]
     },
     "execution_count": 3,
     "metadata": {},
     "output_type": "execute_result"
    }
   ],
   "source": [
    "b = 1.2\n",
    "type(b)"
   ]
  },
  {
   "cell_type": "markdown",
   "metadata": {},
   "source": [
    "Floating point numbers can be entered either as decimals or in scientific notation"
   ]
  },
  {
   "cell_type": "code",
   "execution_count": 4,
   "metadata": {},
   "outputs": [
    {
     "name": "stdout",
     "output_type": "stream",
     "text": [
      "True\n"
     ]
    }
   ],
   "source": [
    "x = 0.0005\n",
    "y = 5e-4 # 5 x 10^(-4)\n",
    "print(x == y)"
   ]
  },
  {
   "cell_type": "markdown",
   "metadata": {},
   "source": [
    "These are the two primary numerical data types in Python. There are some others that we don't use as often, called long (for long integers) and complex (for complex numbers)\n",
    "\n",
    "### Operations on numbers\n",
    "There is arithmetic and logic available to operate on elemental data types. For example, we do have addition, subtraction, multiplication, and division available. For example, for numbers, we can do the following:\n",
    "\n",
    "\n",
    "1. x + y \n",
    "2. x - y\n",
    "3. x * y\n",
    "4. x / y\n",
    "5. x ** y (exponentiation)\n",
    "6. x % y (modulus)\n",
    "7. x // y (integer division)\n",
    "8. -x\n",
    "9. abs(x)\n",
    "10. int(x)\n",
    "11. float(x)\n"
   ]
  },
  {
   "cell_type": "markdown",
   "metadata": {},
   "source": [
    "## Strings\n",
    "Strings are how text is represented within Python. It is always represented as a quoted object using either single ('') or double (\"\") quotes, as long as the types of quotes are matched. For example:"
   ]
  },
  {
   "cell_type": "markdown",
   "metadata": {},
   "source": []
  },
  {
   "cell_type": "code",
   "execution_count": 5,
   "metadata": {},
   "outputs": [],
   "source": [
    "first_name = \"Topister\"\n",
    "last_name = \"Onyango\""
   ]
  },
  {
   "cell_type": "code",
   "execution_count": 6,
   "metadata": {},
   "outputs": [
    {
     "data": {
      "text/plain": [
       "str"
      ]
     },
     "execution_count": 6,
     "metadata": {},
     "output_type": "execute_result"
    }
   ],
   "source": [
    "type(first_name)"
   ]
  },
  {
   "cell_type": "code",
   "execution_count": null,
   "metadata": {},
   "outputs": [],
   "source": []
  }
 ],
 "metadata": {
  "kernelspec": {
   "display_name": "data_science",
   "language": "python",
   "name": "python3"
  },
  "language_info": {
   "codemirror_mode": {
    "name": "ipython",
    "version": 3
   },
   "file_extension": ".py",
   "mimetype": "text/x-python",
   "name": "python",
   "nbconvert_exporter": "python",
   "pygments_lexer": "ipython3",
   "version": "3.11.7"
  }
 },
 "nbformat": 4,
 "nbformat_minor": 2
}
